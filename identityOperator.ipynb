{
 "cells": [
  {
   "cell_type": "code",
   "execution_count": 5,
   "id": "13e0df83",
   "metadata": {},
   "outputs": [
    {
     "name": "stdout",
     "output_type": "stream",
     "text": [
      "l1 is l2: True\n",
      "l1 is l3: False\n",
      "l1 is not l3: True\n"
     ]
    }
   ],
   "source": [
    "# identity operators:\n",
    "l1 = [1,2,3]\n",
    "l2 = l1\n",
    "l3 = [1,2,3]\n",
    "\n",
    "print(\"l1 is l2:\", l1 is l2)  # True, because l2 points to the same object as l1\n",
    "\n",
    "print(\"l1 is l3:\", l1 is l3)  # False, because l3 is a different object with the same content\n",
    "\n",
    "print(\"l1 is not l3:\", l1 is not l3)  # True, because they are not the same object"
   ]
  },
  {
   "cell_type": "code",
   "execution_count": null,
   "id": "89ed3813",
   "metadata": {},
   "outputs": [],
   "source": []
  }
 ],
 "metadata": {
  "kernelspec": {
   "display_name": "Python 3 (ipykernel)",
   "language": "python",
   "name": "python3"
  },
  "language_info": {
   "codemirror_mode": {
    "name": "ipython",
    "version": 3
   },
   "file_extension": ".py",
   "mimetype": "text/x-python",
   "name": "python",
   "nbconvert_exporter": "python",
   "pygments_lexer": "ipython3",
   "version": "3.11.5"
  }
 },
 "nbformat": 4,
 "nbformat_minor": 5
}

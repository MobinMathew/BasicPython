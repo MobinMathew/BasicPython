{
 "cells": [
  {
   "cell_type": "code",
   "execution_count": 5,
   "id": "b6bc6c47",
   "metadata": {},
   "outputs": [
    {
     "name": "stdout",
     "output_type": "stream",
     "text": [
      "Enter any decimal:16\n",
      "10\n"
     ]
    }
   ],
   "source": [
    "# hexa Decimal\n",
    "# built-in funcion\n",
    "\n",
    "decimal = int(input(\"Enter any decimal:\"))\n",
    "hexa = hex(decimal)\n",
    "print(hexa[2:])"
   ]
  },
  {
   "cell_type": "code",
   "execution_count": 7,
   "id": "58c727b8",
   "metadata": {},
   "outputs": [
    {
     "name": "stdout",
     "output_type": "stream",
     "text": [
      "Enter any decimal:10\n",
      "a\n"
     ]
    }
   ],
   "source": [
    "# using formating\n",
    "\n",
    "decimal = int(input(\"Enter any decimal:\"))\n",
    "hexa = format(decimal,\"x\")\n",
    "print(hexa)"
   ]
  },
  {
   "cell_type": "code",
   "execution_count": 8,
   "id": "ddffdd38",
   "metadata": {},
   "outputs": [
    {
     "name": "stdout",
     "output_type": "stream",
     "text": [
      "Enter any decimal:10\n",
      "a\n"
     ]
    }
   ],
   "source": [
    "# using f-stirng\n",
    "\n",
    "decimal = int(input(\"Enter any decimal:\"))\n",
    "hexa = f\"{decimal:x}\"\n",
    "print(hexa)"
   ]
  },
  {
   "cell_type": "code",
   "execution_count": null,
   "id": "9e5b2f79",
   "metadata": {},
   "outputs": [],
   "source": []
  }
 ],
 "metadata": {
  "kernelspec": {
   "display_name": "Python 3 (ipykernel)",
   "language": "python",
   "name": "python3"
  },
  "language_info": {
   "codemirror_mode": {
    "name": "ipython",
    "version": 3
   },
   "file_extension": ".py",
   "mimetype": "text/x-python",
   "name": "python",
   "nbconvert_exporter": "python",
   "pygments_lexer": "ipython3",
   "version": "3.11.5"
  }
 },
 "nbformat": 4,
 "nbformat_minor": 5
}

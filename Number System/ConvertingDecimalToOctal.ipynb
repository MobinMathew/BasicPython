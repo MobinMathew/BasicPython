{
 "cells": [
  {
   "cell_type": "code",
   "execution_count": 1,
   "id": "c081f6de",
   "metadata": {},
   "outputs": [
    {
     "name": "stdout",
     "output_type": "stream",
     "text": [
      "Enter any decimal:10\n",
      "Octal base 8: 12\n"
     ]
    }
   ],
   "source": [
    "# built-in function\n",
    "\n",
    "decimal = int(input(\"Enter any decimal:\"))\n",
    "octal = oct(decimal)\n",
    "print(\"Octal base 8:\",octal[2:])"
   ]
  },
  {
   "cell_type": "code",
   "execution_count": 1,
   "id": "1ef8b2b0",
   "metadata": {},
   "outputs": [
    {
     "name": "stdout",
     "output_type": "stream",
     "text": [
      "Enter any decimal:12\n",
      "octal base 8: 14\n"
     ]
    }
   ],
   "source": [
    "# using formating function\n",
    "\n",
    "decimal = int(input(\"Enter any decimal:\"))\n",
    "octal = format(decimal,\"o\")\n",
    "print(\"octal base 8:\",octal)"
   ]
  },
  {
   "cell_type": "code",
   "execution_count": 2,
   "id": "e21aa366",
   "metadata": {},
   "outputs": [
    {
     "name": "stdout",
     "output_type": "stream",
     "text": [
      "Enter any decimal:12\n",
      "octal: 14\n"
     ]
    }
   ],
   "source": [
    "# using f-stirng\n",
    "\n",
    "decimal = int(input(\"Enter any decimal:\"))\n",
    "octal = f\"octal: {decimal:o}\"\n",
    "print(octal)"
   ]
  },
  {
   "cell_type": "code",
   "execution_count": null,
   "id": "9d201ecb",
   "metadata": {},
   "outputs": [],
   "source": []
  }
 ],
 "metadata": {
  "kernelspec": {
   "display_name": "Python 3 (ipykernel)",
   "language": "python",
   "name": "python3"
  },
  "language_info": {
   "codemirror_mode": {
    "name": "ipython",
    "version": 3
   },
   "file_extension": ".py",
   "mimetype": "text/x-python",
   "name": "python",
   "nbconvert_exporter": "python",
   "pygments_lexer": "ipython3",
   "version": "3.11.5"
  }
 },
 "nbformat": 4,
 "nbformat_minor": 5
}

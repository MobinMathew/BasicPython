{
 "cells": [
  {
   "cell_type": "code",
   "execution_count": 2,
   "id": "daf3c4f3",
   "metadata": {},
   "outputs": [
    {
     "name": "stdout",
     "output_type": "stream",
     "text": [
      "Enter a decimal number:7\n",
      "Enter the base to convert into (2-36):4\n",
      "7 in base 4 is: 13\n"
     ]
    }
   ],
   "source": [
    "def decimal_to_base(number,base):\n",
    "    if number == 0:\n",
    "        return \"0\"\n",
    "    digits = \"0123456789ABCDEFGHIJKLMNOPQRSTUVWXYZ\"\n",
    "    result = \"\"\n",
    "    \n",
    "    while number > 0:\n",
    "        #  % is moduler that is remainder\n",
    "        remainder = number % base\n",
    "        result = digits[remainder] + result\n",
    "        # floor division\n",
    "        number //= base\n",
    "    return result\n",
    "\n",
    "number = int(input(\"Enter a decimal number:\"))\n",
    "base = int(input(\"Enter the base to convert into (2-36):\"))\n",
    "\n",
    "if 2<= base <= 36:\n",
    "    print(f\"{number} in base {base} is: {decimal_to_base(number,base)}\")\n",
    "else:\n",
    "    print(\"Base must be between 2 and 36\")"
   ]
  },
  {
   "cell_type": "code",
   "execution_count": null,
   "id": "2d26a5b9",
   "metadata": {},
   "outputs": [],
   "source": []
  }
 ],
 "metadata": {
  "kernelspec": {
   "display_name": "Python 3 (ipykernel)",
   "language": "python",
   "name": "python3"
  },
  "language_info": {
   "codemirror_mode": {
    "name": "ipython",
    "version": 3
   },
   "file_extension": ".py",
   "mimetype": "text/x-python",
   "name": "python",
   "nbconvert_exporter": "python",
   "pygments_lexer": "ipython3",
   "version": "3.11.5"
  }
 },
 "nbformat": 4,
 "nbformat_minor": 5
}

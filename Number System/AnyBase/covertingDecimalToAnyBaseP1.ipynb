{
 "cells": [
  {
   "cell_type": "code",
   "execution_count": 3,
   "id": "32148089",
   "metadata": {},
   "outputs": [
    {
     "name": "stdout",
     "output_type": "stream",
     "text": [
      "enter the number1024\n",
      "Enter the base of this number: (2/8/10/16)10\n",
      "\n",
      "Converted Values:\n",
      "Decimal     : 1024\n",
      "Binary      : 10000000000\n",
      "Octal       : 2000\n",
      "Hexadecimal : 400\n"
     ]
    }
   ],
   "source": [
    "# convert any base number to any othe base\n",
    "\n",
    "def base_conversion():\n",
    "    \n",
    "    # take input from user\n",
    "    number = input(\"enter the number\")\n",
    "    base = int(input(\"Enter the base of this number: (2/8/10/16):\"))\n",
    "    \n",
    "    try:\n",
    "        # convert the input number to decimal first\n",
    "        decimal_value = int(number,base)\n",
    "        \n",
    "        # convert the decimal value to different base:\n",
    "        \n",
    "        print(\"\\nConverted Values:\")\n",
    "        print(f\"Decimal     : {decimal_value}\")\n",
    "        print(f\"Binary      : {bin(decimal_value)[2:]}\")\n",
    "        print(f\"Octal       : {oct(decimal_value)[2:]}\")\n",
    "        print(f\"Hexadecimal : {hex(decimal_value)[2:]}\")\n",
    "    \n",
    "    except ValueError:\n",
    "        print(\"Invalid number for the given base!\")\n",
    "\n",
    "base_conversion()"
   ]
  },
  {
   "cell_type": "code",
   "execution_count": null,
   "id": "1c1ff473",
   "metadata": {},
   "outputs": [],
   "source": []
  }
 ],
 "metadata": {
  "kernelspec": {
   "display_name": "Python 3 (ipykernel)",
   "language": "python",
   "name": "python3"
  },
  "language_info": {
   "codemirror_mode": {
    "name": "ipython",
    "version": 3
   },
   "file_extension": ".py",
   "mimetype": "text/x-python",
   "name": "python",
   "nbconvert_exporter": "python",
   "pygments_lexer": "ipython3",
   "version": "3.11.5"
  }
 },
 "nbformat": 4,
 "nbformat_minor": 5
}

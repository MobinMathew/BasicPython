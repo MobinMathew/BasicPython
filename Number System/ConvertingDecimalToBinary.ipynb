{
 "cells": [
  {
   "cell_type": "code",
   "execution_count": 3,
   "id": "63f34ba7",
   "metadata": {},
   "outputs": [
    {
     "name": "stdout",
     "output_type": "stream",
     "text": [
      "Enter a decimal:7\n",
      "111\n"
     ]
    }
   ],
   "source": [
    "# built-in function using bin\n",
    "\n",
    "decimal = int(input(\"Enter decimal:\"))\n",
    "binary = bin(decimal)\n",
    "\n",
    "# to remove prefix 0b: slicing [start:end:step]\n",
    "print(binary[2:])"
   ]
  },
  {
   "cell_type": "code",
   "execution_count": 6,
   "id": "4f9c48f7",
   "metadata": {},
   "outputs": [
    {
     "name": "stdout",
     "output_type": "stream",
     "text": [
      "Enter any decimal:7\n",
      "111\n"
     ]
    }
   ],
   "source": [
    "# Using format() function\n",
    "\n",
    "decimal = int(input(\"Enter any decimal:\"))\n",
    "binary = format(decimal,\"b\")\n",
    "print(binary)"
   ]
  },
  {
   "cell_type": "code",
   "execution_count": 9,
   "id": "28c3050a",
   "metadata": {},
   "outputs": [
    {
     "name": "stdout",
     "output_type": "stream",
     "text": [
      "Eneter any decimal:7\n",
      "111\n"
     ]
    }
   ],
   "source": [
    "# using f-string formatting:\n",
    "decimal = int(input(\"Eneter any decimal:\"))\n",
    "binary = f\"{decimal:b}\"\n",
    "print(binary)"
   ]
  },
  {
   "cell_type": "code",
   "execution_count": null,
   "id": "73f3cbce",
   "metadata": {},
   "outputs": [],
   "source": []
  }
 ],
 "metadata": {
  "kernelspec": {
   "display_name": "Python 3 (ipykernel)",
   "language": "python",
   "name": "python3"
  },
  "language_info": {
   "codemirror_mode": {
    "name": "ipython",
    "version": 3
   },
   "file_extension": ".py",
   "mimetype": "text/x-python",
   "name": "python",
   "nbconvert_exporter": "python",
   "pygments_lexer": "ipython3",
   "version": "3.11.5"
  }
 },
 "nbformat": 4,
 "nbformat_minor": 5
}

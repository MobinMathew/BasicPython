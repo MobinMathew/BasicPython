{
 "cells": [
  {
   "cell_type": "code",
   "execution_count": 2,
   "id": "33010b79",
   "metadata": {},
   "outputs": [
    {
     "name": "stdout",
     "output_type": "stream",
     "text": [
      "Select operation:\n",
      "1. Add\n",
      "2. Subtract\n",
      "3. Multiply\n",
      "4. Divide\n",
      "Enter choice (1/2/3/4: 2\n",
      "Enter first number:20\n",
      "Enter second number:10\n",
      "Result: 10\n"
     ]
    }
   ],
   "source": [
    "# Basic python calculator in python\n",
    "\n",
    "def add(x,y):\n",
    "    return x + y\n",
    "def subtract(x,y):\n",
    "    return x - y\n",
    "def multiply(x,y):\n",
    "    return x * y\n",
    "def division(x,y):\n",
    "    if y == 0:\n",
    "        return \"Error! Division by  zero.\"\n",
    "    return x / y\n",
    "\n",
    "print(\"Select operation:\")\n",
    "print(\"1. Add\")\n",
    "print(\"2. Subtract\")\n",
    "print(\"3. Multiply\")\n",
    "print(\"4. Divide\")\n",
    "\n",
    "choice = input(\"Enter choice (1/2/3/4: \")\n",
    "\n",
    "num1 = int(input(\"Enter first number:\"))\n",
    "\n",
    "num2 = int(input(\"Enter second number:\"))\n",
    "\n",
    "if choice == '1':\n",
    "    print(\"Result:\", add(num1,num2))\n",
    "elif choice == '2':\n",
    "    print(\"Result:\", subtract(num1,num2))\n",
    "elif choice == '3':\n",
    "    print(\"Result\", multiply(num1,num2))\n",
    "elif choice == '4':\n",
    "    print(\"Result\", division(num1,num2))\n",
    "else:\n",
    "    print(\"Invalid\")"
   ]
  },
  {
   "cell_type": "code",
   "execution_count": 3,
   "id": "b71d89b3",
   "metadata": {},
   "outputs": [
    {
     "name": "stdout",
     "output_type": "stream",
     "text": [
      "Select operation:\n",
      "1. Add\n",
      "2. Subtract\n",
      "3. Multiply\n",
      "4. Divide\n",
      "Enter choice (1/2/3/4: 1\n",
      "Enter first number(INT, FLOAT, BOOl):10.5\n",
      "Enter second number(INT, FLOAT, BOOL):20.5\n",
      "Result: 31.0\n"
     ]
    }
   ],
   "source": [
    "# lets try in different way \n",
    "# using eval function \n",
    "# The eval() function in Python is used to evaluate a string as a Python expression.\n",
    "# That means if you give it text like \"5+3\" or \"True\", Python will treat it as actual code and run it.\n",
    "\n",
    "def add(a,b):\n",
    "    return a + b\n",
    "def sub(a,b):\n",
    "    return a - b\n",
    "def mul(a,b):\n",
    "    return a * b\n",
    "def div(a,b):\n",
    "    if y == 0:\n",
    "        return \"Error!\"\n",
    "    return a / b\n",
    "\n",
    "print(\"Select operation:\")\n",
    "print(\"1. Add\")\n",
    "print(\"2. Subtract\")\n",
    "print(\"3. Multiply\")\n",
    "print(\"4. Divide\")\n",
    "\n",
    "choice = input(\"Enter choice (1/2/3/4: \")\n",
    "\n",
    "num1 = eval(input(\"Enter first number(INT, FLOAT, BOOl):\"))\n",
    "\n",
    "num2 = eval(input(\"Enter second number(INT, FLOAT, BOOL):\"))\n",
    "\n",
    "\n",
    "if choice =='1':\n",
    "    print(\"Result:\", add(num1,num2))\n",
    "elif choice == '2':\n",
    "    print(\"Result:\", sub(num1,num2))\n",
    "elif choice == '3':\n",
    "    print(\"Result:\", mul(num1,num2))\n",
    "elif choice == '4':\n",
    "    print(\"Result:\", div(num1,num2))\n",
    "else:\n",
    "    print(\"Invlaid!!\")"
   ]
  },
  {
   "cell_type": "code",
   "execution_count": 5,
   "id": "86efaf5d",
   "metadata": {},
   "outputs": [
    {
     "data": {
      "text/plain": [
       "float"
      ]
     },
     "execution_count": 5,
     "metadata": {},
     "output_type": "execute_result"
    }
   ],
   "source": [
    "type(num1)"
   ]
  },
  {
   "cell_type": "code",
   "execution_count": null,
   "id": "31c1e1c1",
   "metadata": {},
   "outputs": [],
   "source": []
  }
 ],
 "metadata": {
  "kernelspec": {
   "display_name": "Python 3 (ipykernel)",
   "language": "python",
   "name": "python3"
  },
  "language_info": {
   "codemirror_mode": {
    "name": "ipython",
    "version": 3
   },
   "file_extension": ".py",
   "mimetype": "text/x-python",
   "name": "python",
   "nbconvert_exporter": "python",
   "pygments_lexer": "ipython3",
   "version": "3.11.5"
  }
 },
 "nbformat": 4,
 "nbformat_minor": 5
}

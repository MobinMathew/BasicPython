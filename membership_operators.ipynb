{
 "cells": [
  {
   "cell_type": "code",
   "execution_count": 3,
   "id": "bbb858fa",
   "metadata": {},
   "outputs": [
    {
     "name": "stdout",
     "output_type": "stream",
     "text": [
      "'apple' in fruits: True\n",
      "'grapes' in fruits: False\n",
      "'grapes' not in fruits: True\n",
      "'banana' not in fruits: False\n"
     ]
    }
   ],
   "source": [
    "# membership operators:\n",
    "\n",
    "fruits = ['apple','banana','mango']\n",
    "\n",
    "print(\"'apple' in fruits:\",'apple' in fruits)\n",
    "\n",
    "print(\"'grapes' in fruits:\",'grapes' in fruits)\n",
    "\n",
    "print(\"'grapes' not in fruits:\",'grapes' not in fruits)\n",
    "\n",
    "print(\"'banana' not in fruits:\",'banana' not in fruits)"
   ]
  },
  {
   "cell_type": "code",
   "execution_count": null,
   "id": "ac7c155f",
   "metadata": {},
   "outputs": [],
   "source": []
  }
 ],
 "metadata": {
  "kernelspec": {
   "display_name": "Python 3 (ipykernel)",
   "language": "python",
   "name": "python3"
  },
  "language_info": {
   "codemirror_mode": {
    "name": "ipython",
    "version": 3
   },
   "file_extension": ".py",
   "mimetype": "text/x-python",
   "name": "python",
   "nbconvert_exporter": "python",
   "pygments_lexer": "ipython3",
   "version": "3.11.5"
  }
 },
 "nbformat": 4,
 "nbformat_minor": 5
}

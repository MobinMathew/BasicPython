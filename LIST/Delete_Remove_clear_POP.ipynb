{
 "cells": [
  {
   "cell_type": "code",
   "execution_count": 2,
   "id": "117a1690",
   "metadata": {},
   "outputs": [
    {
     "name": "stdout",
     "output_type": "stream",
     "text": [
      "[20, 30, 40, 50, 60]\n"
     ]
    }
   ],
   "source": [
    "# delete: delete or remove one or more element from a list using del() function\n",
    "marks = [20,30,40,50,60]\n",
    "print(marks)"
   ]
  },
  {
   "cell_type": "code",
   "execution_count": 3,
   "id": "31319c4b",
   "metadata": {},
   "outputs": [],
   "source": [
    "del marks[4]"
   ]
  },
  {
   "cell_type": "code",
   "execution_count": 4,
   "id": "038373fa",
   "metadata": {},
   "outputs": [
    {
     "name": "stdout",
     "output_type": "stream",
     "text": [
      "new list: [20, 30, 40, 50]\n"
     ]
    }
   ],
   "source": [
    "print(\"new list:\",marks)"
   ]
  },
  {
   "cell_type": "code",
   "execution_count": 8,
   "id": "b2368fa8",
   "metadata": {},
   "outputs": [
    {
     "name": "stdout",
     "output_type": "stream",
     "text": [
      "old list: ['maths', 'english', 'hindi', 'science']\n",
      "new list: ['maths', 'english', 'science']\n"
     ]
    }
   ],
   "source": [
    "subject = ['maths','english','hindi','science']\n",
    "print(\"old list:\",subject)\n",
    "\n",
    "# delete\n",
    "del subject[2]\n",
    "print(\"new list:\",subject)"
   ]
  },
  {
   "cell_type": "code",
   "execution_count": 10,
   "id": "05ff0333",
   "metadata": {},
   "outputs": [
    {
     "ename": "NameError",
     "evalue": "name 'subject' is not defined",
     "output_type": "error",
     "traceback": [
      "\u001b[1;31m---------------------------------------------------------------------------\u001b[0m",
      "\u001b[1;31mNameError\u001b[0m                                 Traceback (most recent call last)",
      "Cell \u001b[1;32mIn[10], line 4\u001b[0m\n\u001b[0;32m      2\u001b[0m subject \u001b[38;5;241m=\u001b[39m [\u001b[38;5;124m'\u001b[39m\u001b[38;5;124mmaths\u001b[39m\u001b[38;5;124m'\u001b[39m,\u001b[38;5;124m'\u001b[39m\u001b[38;5;124menglish\u001b[39m\u001b[38;5;124m'\u001b[39m,\u001b[38;5;124m'\u001b[39m\u001b[38;5;124mhindi\u001b[39m\u001b[38;5;124m'\u001b[39m,\u001b[38;5;124m'\u001b[39m\u001b[38;5;124mscience\u001b[39m\u001b[38;5;124m'\u001b[39m]\n\u001b[0;32m      3\u001b[0m \u001b[38;5;28;01mdel\u001b[39;00m subject\n\u001b[1;32m----> 4\u001b[0m \u001b[38;5;28mprint\u001b[39m(subject)\n",
      "\u001b[1;31mNameError\u001b[0m: name 'subject' is not defined"
     ]
    }
   ],
   "source": [
    "# it can even delete the list entirely:\n",
    "subject = ['maths','english','hindi','science']\n",
    "del subject\n",
    "print(subject)"
   ]
  },
  {
   "cell_type": "code",
   "execution_count": 12,
   "id": "393ebb9b",
   "metadata": {},
   "outputs": [
    {
     "name": "stdout",
     "output_type": "stream",
     "text": [
      "[]\n"
     ]
    }
   ],
   "source": [
    "# clear() method is used to empty a list\n",
    "number = [1,2,3,4,5,6,7]\n",
    "number.clear()\n",
    "print(number)"
   ]
  },
  {
   "cell_type": "code",
   "execution_count": 14,
   "id": "1b663325",
   "metadata": {},
   "outputs": [
    {
     "name": "stdout",
     "output_type": "stream",
     "text": [
      "old list: [10, 20, 30, 40, 50]\n",
      "new list [10, 20, 40, 50]\n"
     ]
    }
   ],
   "source": [
    "# remove : it remove the given item\n",
    "number = [10,20,30,40,50]\n",
    "print(\"old list:\",number)\n",
    "number.remove(30)\n",
    "print(\"new list\",number)"
   ]
  },
  {
   "cell_type": "code",
   "execution_count": 16,
   "id": "b50ab96c",
   "metadata": {},
   "outputs": [
    {
     "name": "stdout",
     "output_type": "stream",
     "text": [
      "old list [2, 4, 6, 8, 10]\n",
      "new list [2, 4, 6, 8]\n",
      "pop out using index value: [2, 6, 8]\n"
     ]
    }
   ],
   "source": [
    "# pop\n",
    "stack = [2,4,6,8,10]\n",
    "print(\"old list\", stack)\n",
    "\n",
    "# pop\n",
    "stack.pop()\n",
    "print(\"new list\", stack)\n",
    "\n",
    "stack.pop(1)\n",
    "print(\"pop out using index value:\", stack)\n"
   ]
  },
  {
   "cell_type": "code",
   "execution_count": null,
   "id": "b8c1d86d",
   "metadata": {},
   "outputs": [],
   "source": []
  }
 ],
 "metadata": {
  "kernelspec": {
   "display_name": "Python 3 (ipykernel)",
   "language": "python",
   "name": "python3"
  },
  "language_info": {
   "codemirror_mode": {
    "name": "ipython",
    "version": 3
   },
   "file_extension": ".py",
   "mimetype": "text/x-python",
   "name": "python",
   "nbconvert_exporter": "python",
   "pygments_lexer": "ipython3",
   "version": "3.11.5"
  }
 },
 "nbformat": 4,
 "nbformat_minor": 5
}

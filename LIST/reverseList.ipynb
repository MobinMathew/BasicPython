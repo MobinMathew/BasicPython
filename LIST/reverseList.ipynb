{
 "cells": [
  {
   "cell_type": "code",
   "execution_count": 2,
   "id": "ba5c7073",
   "metadata": {},
   "outputs": [
    {
     "name": "stdout",
     "output_type": "stream",
     "text": [
      "old list: [20, 30, 40, 50]\n",
      "new list in reverse order: [50, 40, 30, 20]\n"
     ]
    }
   ],
   "source": [
    "# write a program to reverse a lis?\n",
    "marks = [20,30,40,50]\n",
    "print(\"old list:\",marks)\n",
    "marks.reverse()\n",
    "print(\"new list in reverse order:\",marks)"
   ]
  },
  {
   "cell_type": "code",
   "execution_count": 3,
   "id": "47709dfb",
   "metadata": {},
   "outputs": [
    {
     "name": "stdout",
     "output_type": "stream",
     "text": [
      "old list: [10, 20, 30, 40, 50]\n",
      "new list: [50, 40, 30, 20, 10]\n"
     ]
    }
   ],
   "source": [
    "# lets do using scling:\n",
    "\n",
    "numbers = [10,20,30,40,50]\n",
    "print(\"old list:\", numbers)\n",
    "print(\"new list:\", numbers[::-1])"
   ]
  },
  {
   "cell_type": "code",
   "execution_count": null,
   "id": "507409fa",
   "metadata": {},
   "outputs": [],
   "source": []
  }
 ],
 "metadata": {
  "kernelspec": {
   "display_name": "Python 3 (ipykernel)",
   "language": "python",
   "name": "python3"
  },
  "language_info": {
   "codemirror_mode": {
    "name": "ipython",
    "version": 3
   },
   "file_extension": ".py",
   "mimetype": "text/x-python",
   "name": "python",
   "nbconvert_exporter": "python",
   "pygments_lexer": "ipython3",
   "version": "3.11.5"
  }
 },
 "nbformat": 4,
 "nbformat_minor": 5
}

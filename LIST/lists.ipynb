{
 "cells": [
  {
   "cell_type": "code",
   "execution_count": 1,
   "id": "db7a1d74",
   "metadata": {},
   "outputs": [
    {
     "name": "stdout",
     "output_type": "stream",
     "text": [
      "[]\n"
     ]
    }
   ],
   "source": [
    "# list\n",
    "my_list = [] # empty list\n",
    "print(my_list)"
   ]
  },
  {
   "cell_type": "code",
   "execution_count": 2,
   "id": "433c50e3",
   "metadata": {},
   "outputs": [
    {
     "name": "stdout",
     "output_type": "stream",
     "text": [
      "[1, 2, 3, 4]\n"
     ]
    }
   ],
   "source": [
    "# list of integer:\n",
    "my_list = [1,2,3,4,]\n",
    "print(my_list)"
   ]
  },
  {
   "cell_type": "code",
   "execution_count": 6,
   "id": "912ca034",
   "metadata": {},
   "outputs": [
    {
     "name": "stdout",
     "output_type": "stream",
     "text": [
      "[1, 1.2, 'a', 'hello']\n"
     ]
    }
   ],
   "source": [
    "# list with mixed datatypes\n",
    "my_list = [1,1.2,'a',\"hello\"]\n",
    "print(my_list)"
   ]
  },
  {
   "cell_type": "code",
   "execution_count": 7,
   "id": "9324e27e",
   "metadata": {},
   "outputs": [],
   "source": [
    "my_list=[]"
   ]
  },
  {
   "cell_type": "code",
   "execution_count": 9,
   "id": "ed1cd046",
   "metadata": {},
   "outputs": [
    {
     "name": "stdout",
     "output_type": "stream",
     "text": [
      "[1, 2, 3, 4]\n"
     ]
    }
   ],
   "source": [
    "my_list=list([1,2,3,4])\n",
    "print(my_list)"
   ]
  },
  {
   "cell_type": "code",
   "execution_count": 10,
   "id": "dff19843",
   "metadata": {},
   "outputs": [
    {
     "data": {
      "text/plain": [
       "['welcome', ['a', 'b', 'c'], ['d', 'e', 'f']]"
      ]
     },
     "execution_count": 10,
     "metadata": {},
     "output_type": "execute_result"
    }
   ],
   "source": [
    "# nested list:\n",
    "#           0           1              2\n",
    "#           0        0   1   2     0   2   3\n",
    "my_list=[\"welcome\",['a','b','c'],['d','e','f']]\n",
    "my_list"
   ]
  },
  {
   "cell_type": "code",
   "execution_count": 12,
   "id": "1bf96b93",
   "metadata": {},
   "outputs": [
    {
     "name": "stdout",
     "output_type": "stream",
     "text": [
      "['a', 'b', 'c']\n"
     ]
    }
   ],
   "source": [
    "# Accessing \n",
    "# positive indexing\n",
    "\n",
    "print(my_list[1])"
   ]
  },
  {
   "cell_type": "code",
   "execution_count": 19,
   "id": "e4764893",
   "metadata": {},
   "outputs": [
    {
     "name": "stdout",
     "output_type": "stream",
     "text": [
      "welcome\n"
     ]
    }
   ],
   "source": [
    "print(my_list[0])"
   ]
  },
  {
   "cell_type": "code",
   "execution_count": 20,
   "id": "de9fca39",
   "metadata": {},
   "outputs": [
    {
     "name": "stdout",
     "output_type": "stream",
     "text": [
      "['d', 'e', 'f']\n"
     ]
    }
   ],
   "source": [
    "# negative indexing for revers\n",
    "print(my_list[-1])"
   ]
  },
  {
   "cell_type": "code",
   "execution_count": 21,
   "id": "9a10a1c2",
   "metadata": {},
   "outputs": [
    {
     "name": "stdout",
     "output_type": "stream",
     "text": [
      "['a', 'b', 'c']\n"
     ]
    }
   ],
   "source": [
    "print(my_list[-2])"
   ]
  },
  {
   "cell_type": "code",
   "execution_count": null,
   "id": "382d7d2c",
   "metadata": {},
   "outputs": [],
   "source": []
  }
 ],
 "metadata": {
  "kernelspec": {
   "display_name": "Python 3 (ipykernel)",
   "language": "python",
   "name": "python3"
  },
  "language_info": {
   "codemirror_mode": {
    "name": "ipython",
    "version": 3
   },
   "file_extension": ".py",
   "mimetype": "text/x-python",
   "name": "python",
   "nbconvert_exporter": "python",
   "pygments_lexer": "ipython3",
   "version": "3.11.5"
  }
 },
 "nbformat": 4,
 "nbformat_minor": 5
}

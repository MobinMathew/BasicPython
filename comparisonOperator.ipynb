{
 "cells": [
  {
   "cell_type": "code",
   "execution_count": 3,
   "id": "a826a6a1",
   "metadata": {},
   "outputs": [
    {
     "name": "stdout",
     "output_type": "stream",
     "text": [
      "Enter a first number:10\n",
      "Enter a second number:20\n",
      "10 less than 20\n"
     ]
    }
   ],
   "source": [
    "# comparison operator:\n",
    "\n",
    "num1 = int(input(\"Enter a first number:\"))\n",
    "num2 = int(input(\"Enter a second number:\"))\n",
    "\n",
    "# equal to:\n",
    "if num1 == num2:\n",
    "    print(\"They both are equal:\",num1,num2)\n",
    "\n",
    "# not equal\n",
    "elif num1 != num2:\n",
    "    print(\"They are not eqaul\",num1,num2)\n",
    "\n",
    "# less than\n",
    "elif num1 < num2:\n",
    "    print(f\"{num1} less than {num2}\")\n",
    "\n",
    "# greater than\n",
    "elif num1 > num2:\n",
    "    print(f\"{num1} greater than {num2}\")\n",
    "\n",
    "# less than or equal to: \n",
    "elif num1 <= num2:\n",
    "    print(f\"{num1} less than or equal to {num2}\")\n",
    "\n",
    "# greater than or equal to:\n",
    "elif num1 >= num2:\n",
    "    print(f\"{num1} greater than or equal to {num2}\")\n",
    "\n",
    "else:\n",
    "    print(\"default\")"
   ]
  },
  {
   "cell_type": "code",
   "execution_count": 2,
   "id": "c16c12ce",
   "metadata": {},
   "outputs": [
    {
     "name": "stdout",
     "output_type": "stream",
     "text": [
      "a == b: False\n",
      "a != b: True\n",
      "a > b: False\n",
      "a < b: True\n",
      "a >= b: False\n",
      "a <= b: True\n"
     ]
    }
   ],
   "source": [
    "a = 10\n",
    "b = 20\n",
    "\n",
    "# Equal to\n",
    "print(\"a == b:\", a == b)   # False\n",
    "\n",
    "# Not equal to\n",
    "print(\"a != b:\", a != b)   # True\n",
    "\n",
    "# Greater than\n",
    "print(\"a > b:\", a > b)     # False\n",
    "\n",
    "# Less than\n",
    "print(\"a < b:\", a < b)     # True\n",
    "\n",
    "# Greater than or equal to\n",
    "print(\"a >= b:\", a >= b)   # False\n",
    "\n",
    "# Less than or equal to\n",
    "print(\"a <= b:\", a <= b)   # True\n"
   ]
  },
  {
   "cell_type": "code",
   "execution_count": null,
   "id": "362903ef",
   "metadata": {},
   "outputs": [],
   "source": []
  }
 ],
 "metadata": {
  "kernelspec": {
   "display_name": "Python 3 (ipykernel)",
   "language": "python",
   "name": "python3"
  },
  "language_info": {
   "codemirror_mode": {
    "name": "ipython",
    "version": 3
   },
   "file_extension": ".py",
   "mimetype": "text/x-python",
   "name": "python",
   "nbconvert_exporter": "python",
   "pygments_lexer": "ipython3",
   "version": "3.11.5"
  }
 },
 "nbformat": 4,
 "nbformat_minor": 5
}

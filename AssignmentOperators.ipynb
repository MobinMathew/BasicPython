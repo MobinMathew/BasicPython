{
 "cells": [
  {
   "cell_type": "code",
   "execution_count": 6,
   "id": "489742b5",
   "metadata": {},
   "outputs": [
    {
     "name": "stdout",
     "output_type": "stream",
     "text": [
      "initial value of x: 10\n",
      "After x += 5: 15\n",
      "After x -= 3: 12\n",
      "After x *= 2: 24\n",
      "After divide: 6.0\n",
      "after module: 6.0\n",
      "after floor divison: 0.0\n"
     ]
    }
   ],
   "source": [
    "# Assignment operators:\n",
    "\n",
    "x = 10\n",
    "print(\"initial value of x:\",x)\n",
    "\n",
    "# add and assign (+=)\n",
    "x+=5\n",
    "print(\"After x += 5:\",x)\n",
    "\n",
    "# subtract and assign (-=)\n",
    "x-=3 \n",
    "print(\"After x -= 3:\",x)\n",
    "\n",
    "# multiply and assign (*=)\n",
    "\n",
    "x*=2 \n",
    "print(\"After x *= 2:\",x)\n",
    "\n",
    "# divide and assign\n",
    "x/= 4\n",
    "print(\"After divide:\",x)\n",
    "\n",
    "# module and assign\n",
    "x %= 7\n",
    "print(\"after module:\",x)\n",
    "\n",
    "# double division or floor division and assign\n",
    "\n",
    "x//=10\n",
    "print(\"after floor divison:\",x)"
   ]
  },
  {
   "cell_type": "code",
   "execution_count": null,
   "id": "b3998a14",
   "metadata": {},
   "outputs": [],
   "source": []
  },
  {
   "cell_type": "code",
   "execution_count": null,
   "id": "01dd1dca",
   "metadata": {},
   "outputs": [],
   "source": []
  }
 ],
 "metadata": {
  "kernelspec": {
   "display_name": "Python 3 (ipykernel)",
   "language": "python",
   "name": "python3"
  },
  "language_info": {
   "codemirror_mode": {
    "name": "ipython",
    "version": 3
   },
   "file_extension": ".py",
   "mimetype": "text/x-python",
   "name": "python",
   "nbconvert_exporter": "python",
   "pygments_lexer": "ipython3",
   "version": "3.11.5"
  }
 },
 "nbformat": 4,
 "nbformat_minor": 5
}

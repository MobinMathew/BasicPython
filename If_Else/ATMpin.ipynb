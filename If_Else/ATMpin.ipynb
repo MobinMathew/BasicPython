{
 "cells": [
  {
   "cell_type": "code",
   "execution_count": 3,
   "id": "2d201622",
   "metadata": {},
   "outputs": [
    {
     "name": "stdout",
     "output_type": "stream",
     "text": [
      "Enter a 4 digit pin1234\n",
      "YOUR ATM PIN IS VALID\n"
     ]
    }
   ],
   "source": [
    "# 7.\tWrite a program to accept a 4-digit ATM PIN from the user\n",
    "# and check if it is valid (only digits and length=4) using if-else.\n",
    "\n",
    "ATM_pin = input(\"Enter a 4 digit pin\")\n",
    "\n",
    "if ATM_pin.isdigit() and len(ATM_pin) == 4:\n",
    "    print(\"YOUR ATM PIN IS VALID\")\n",
    "else:\n",
    "    print(\"YOUR ATM PIN IS INVALID\")"
   ]
  },
  {
   "cell_type": "code",
   "execution_count": 8,
   "id": "79454424",
   "metadata": {},
   "outputs": [
    {
     "name": "stdout",
     "output_type": "stream",
     "text": [
      "Enter a 4 digit pin:1234\n",
      "SUCCESSFULLY LOGIN...\n"
     ]
    }
   ],
   "source": [
    "ATM_pin = input(\"Enter a 4 digit pin:\")\n",
    "\n",
    "correct_pin = '1234'\n",
    "\n",
    "if ATM_pin.isdigit() and len(ATM_pin) == 4:\n",
    "    if ATM_pin == correct_pin:\n",
    "        print(\"SUCCESSFULLY LOGIN...\")\n",
    "    else:\n",
    "        print(\"YOUR PIN IS INCORRECT...\")\n",
    "        print(\"PLEASE ENTER THE CORRECT PIN\")\n",
    "\n",
    "else:\n",
    "    print(\"YOUR ATM PIN IS INVALID\")"
   ]
  },
  {
   "cell_type": "code",
   "execution_count": null,
   "id": "7ebeca6e",
   "metadata": {},
   "outputs": [],
   "source": []
  }
 ],
 "metadata": {
  "kernelspec": {
   "display_name": "Python 3 (ipykernel)",
   "language": "python",
   "name": "python3"
  },
  "language_info": {
   "codemirror_mode": {
    "name": "ipython",
    "version": 3
   },
   "file_extension": ".py",
   "mimetype": "text/x-python",
   "name": "python",
   "nbconvert_exporter": "python",
   "pygments_lexer": "ipython3",
   "version": "3.11.5"
  }
 },
 "nbformat": 4,
 "nbformat_minor": 5
}

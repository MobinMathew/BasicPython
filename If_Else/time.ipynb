{
 "cells": [
  {
   "cell_type": "code",
   "execution_count": 11,
   "id": "dc8badf6",
   "metadata": {},
   "outputs": [
    {
     "name": "stdout",
     "output_type": "stream",
     "text": [
      "enter time in HH:MM format:4:00\n",
      "🌛... Night ...\n"
     ]
    }
   ],
   "source": [
    "# 5.\tWrite a program to check whether the \n",
    "#input time (in 24-hour format) is morning (5–11), afternoon (12–16), evening (17–20), or night (21–4).\n",
    "\n",
    "time = input(\"enter time in HH:MM format:\")\n",
    "\n",
    "parts = time.split(\":\")\n",
    "\n",
    "if len(parts) == 2:\n",
    "    hours = int(parts[0])\n",
    "    minutes = int(parts[1])\n",
    "    \n",
    "    if 0 <= hours <=23 and 0<= minutes <=59:\n",
    "        if 5 <= hours <=11:\n",
    "            print(\"🌞... Morning ...\")\n",
    "        elif 12<= hours <= 16:\n",
    "            print(\"... Afternoon ...\")\n",
    "        elif 17<= hours <=20:\n",
    "            print(\"🌅... Evening ...\")\n",
    "        else:\n",
    "            print(\"🌛... Night ...\")\n",
    "    else:\n",
    "        print(\"!!! Invalid time !!!\")\n",
    "else:\n",
    "    print(\"!!! Invalid formate !!!\")"
   ]
  },
  {
   "cell_type": "code",
   "execution_count": null,
   "id": "c8cf7b9c",
   "metadata": {},
   "outputs": [],
   "source": []
  }
 ],
 "metadata": {
  "kernelspec": {
   "display_name": "Python 3 (ipykernel)",
   "language": "python",
   "name": "python3"
  },
  "language_info": {
   "codemirror_mode": {
    "name": "ipython",
    "version": 3
   },
   "file_extension": ".py",
   "mimetype": "text/x-python",
   "name": "python",
   "nbconvert_exporter": "python",
   "pygments_lexer": "ipython3",
   "version": "3.11.5"
  }
 },
 "nbformat": 4,
 "nbformat_minor": 5
}

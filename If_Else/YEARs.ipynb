{
 "cells": [
  {
   "cell_type": "code",
   "execution_count": 5,
   "id": "2d7704ff",
   "metadata": {},
   "outputs": [
    {
     "name": "stdout",
     "output_type": "stream",
     "text": [
      "Enter a year:2000\n",
      "2000 is a century leap year\n"
     ]
    }
   ],
   "source": [
    "# 8.\tWrite a program that takes a year \n",
    "# and checks if the given year is a century year, leap year, or normal year using nested if-elif-else.\n",
    "\n",
    "year = int(input(\"Enter a year:\"))\n",
    "\n",
    "if year  % 400 == 0:\n",
    "    print(f\"{year} is a century leap year\")\n",
    "elif year % 100 == 0:\n",
    "     print(f\"{year} is a normal century year\")\n",
    "elif year % 4 == 0:\n",
    "     print(f\"{year} is a  leap year\")\n",
    "else:\n",
    "    print(f\"{year} is a normal year\")"
   ]
  },
  {
   "cell_type": "code",
   "execution_count": 6,
   "id": "634d9eac",
   "metadata": {},
   "outputs": [
    {
     "name": "stdout",
     "output_type": "stream",
     "text": [
      "Enter a year:1900\n",
      "1900 is a century not leap year\n"
     ]
    }
   ],
   "source": [
    "year = int(input(\"Enter a year:\"))\n",
    "\n",
    "# check if it is a century year \n",
    "\n",
    "if year % 100 == 0:\n",
    "    if year % 400 == 0:\n",
    "        print(f\"{year} is a century leap year\")\n",
    "    else:\n",
    "        print(f\"{year} is a century not leap year\")\n",
    "else:\n",
    "    # not a century year\n",
    "    if year % 4 == 0:\n",
    "        print(f\"{year} is a leap year\")\n",
    "    else:\n",
    "        print(f\"{year} is not a leap year\")\n",
    "    "
   ]
  },
  {
   "cell_type": "code",
   "execution_count": null,
   "id": "59db46f3",
   "metadata": {},
   "outputs": [],
   "source": []
  }
 ],
 "metadata": {
  "kernelspec": {
   "display_name": "Python 3 (ipykernel)",
   "language": "python",
   "name": "python3"
  },
  "language_info": {
   "codemirror_mode": {
    "name": "ipython",
    "version": 3
   },
   "file_extension": ".py",
   "mimetype": "text/x-python",
   "name": "python",
   "nbconvert_exporter": "python",
   "pygments_lexer": "ipython3",
   "version": "3.11.5"
  }
 },
 "nbformat": 4,
 "nbformat_minor": 5
}

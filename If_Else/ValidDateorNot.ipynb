{
 "cells": [
  {
   "cell_type": "code",
   "execution_count": 10,
   "id": "8e757257",
   "metadata": {},
   "outputs": [
    {
     "name": "stdout",
     "output_type": "stream",
     "text": [
      "Enter the day:07\n",
      "Enter the Month:05\n",
      "Enter the Year:1\n",
      "DATE: 7 - 5 - 1\n",
      "invalid date\n"
     ]
    }
   ],
   "source": [
    "# 3.\tWrite a program to take a date (day, month, year) as input and check if it is a valid date using if-elif-else.\n",
    "\n",
    "Day = int(input(\"Enter the day:\"))\n",
    "Month = int(input(\"Enter the Month:\"))\n",
    "Year = int(input(\"Enter the Year:\"))\n",
    "\n",
    "print(f\"DATE: {Day} - {Month} - {Year}\")\n",
    "\n",
    "# leap year:\n",
    "def leapYear(y):\n",
    "    if (y % 4 == 0 and y % 100 != 0) or (y % 400 == 0):\n",
    "        return True\n",
    "    else:\n",
    "        return False\n",
    "\n",
    "if Month < 1 or Month > 12:\n",
    "    print(\"Invalid Date\")\n",
    "else:\n",
    "    if Day < 1:\n",
    "        print(\"Invaid Day\")\n",
    "    else:\n",
    "        \n",
    "        if Month in [1,3,5,7,8,10,12]:\n",
    "            if Day <= 3:\n",
    "                print(\"valid date\")\n",
    "            else:\n",
    "                print(\"invalid date\")\n",
    "        elif Month in [4,6,9,11]:\n",
    "            if Day <= 30:\n",
    "                print(\"valid date\")\n",
    "            else:\n",
    "                print(\"invlid day for the given month\")\n",
    "        elif Month == 2:\n",
    "            if leapYear(Year):\n",
    "                if Day <= 29:\n",
    "                    print(\"valid date\")\n",
    "                else:\n",
    "                    print(\"invalid day for february in a leap year.\")\n",
    "            else:\n",
    "                if Day <= 28:\n",
    "                    print(\"valid date\")\n",
    "                else:\n",
    "                    print(\"invalid day for februray in a leap year.\")"
   ]
  },
  {
   "cell_type": "code",
   "execution_count": null,
   "id": "6bcee4c9",
   "metadata": {},
   "outputs": [],
   "source": []
  },
  {
   "cell_type": "code",
   "execution_count": null,
   "id": "c8c29cc0",
   "metadata": {},
   "outputs": [],
   "source": []
  }
 ],
 "metadata": {
  "kernelspec": {
   "display_name": "Python 3 (ipykernel)",
   "language": "python",
   "name": "python3"
  },
  "language_info": {
   "codemirror_mode": {
    "name": "ipython",
    "version": 3
   },
   "file_extension": ".py",
   "mimetype": "text/x-python",
   "name": "python",
   "nbconvert_exporter": "python",
   "pygments_lexer": "ipython3",
   "version": "3.11.5"
  }
 },
 "nbformat": 4,
 "nbformat_minor": 5
}

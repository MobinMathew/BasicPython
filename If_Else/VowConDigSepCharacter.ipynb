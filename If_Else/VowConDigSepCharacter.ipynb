{
 "cells": [
  {
   "cell_type": "code",
   "execution_count": 5,
   "id": "1b70c772",
   "metadata": {},
   "outputs": [
    {
     "name": "stdout",
     "output_type": "stream",
     "text": [
      "Enter a character:A\n",
      "A is a vowel\n"
     ]
    }
   ],
   "source": [
    "# chek it is vowel or not\n",
    "enter = input(\"Enter a character:\")\n",
    "\n",
    "if len(enter) == 1 and enter.isalpha:\n",
    "    if enter in \"aeiou\" or enter in \"AEIOU\":\n",
    "        print(f\"{enter} is a vowel\")\n",
    "    else:\n",
    "        print(f\"{enter} is not vowel\")\n",
    "else:\n",
    "    print(f\"{enter} is invalid !!\")"
   ]
  },
  {
   "cell_type": "code",
   "execution_count": 13,
   "id": "a7509e88",
   "metadata": {},
   "outputs": [
    {
     "name": "stdout",
     "output_type": "stream",
     "text": [
      "Enter a character or digit:@\n",
      "@ is a special character\n"
     ]
    }
   ],
   "source": [
    "# 4.\tWrite a program to classify a character entered by the user as a vowel, consonant, digit, \n",
    "#       or special character using if-elif-else.\n",
    "\n",
    "enter = input(\"Enter a character or digit:\")\n",
    "\n",
    "if len(enter) != 1:\n",
    "    print(\".....invalid!, Please enter exactly one digit or character.....\")\n",
    "else:\n",
    "    if enter.isalpha():\n",
    "        if enter in 'aeiou' or enter in 'AEIOU':\n",
    "            print(f\"{enter} is a Vowel\")\n",
    "        else:\n",
    "            print(f\"{enter} is a Consonant\")\n",
    "    elif enter.isdigit():\n",
    "        print(f\"{enter} is a Digit\")\n",
    "    else:\n",
    "        print(f\"{enter} is a special character\")"
   ]
  },
  {
   "cell_type": "code",
   "execution_count": null,
   "id": "32375378",
   "metadata": {},
   "outputs": [],
   "source": []
  },
  {
   "cell_type": "code",
   "execution_count": null,
   "id": "b31fe3a8",
   "metadata": {},
   "outputs": [],
   "source": []
  }
 ],
 "metadata": {
  "kernelspec": {
   "display_name": "Python 3 (ipykernel)",
   "language": "python",
   "name": "python3"
  },
  "language_info": {
   "codemirror_mode": {
    "name": "ipython",
    "version": 3
   },
   "file_extension": ".py",
   "mimetype": "text/x-python",
   "name": "python",
   "nbconvert_exporter": "python",
   "pygments_lexer": "ipython3",
   "version": "3.11.5"
  }
 },
 "nbformat": 4,
 "nbformat_minor": 5
}

{
 "cells": [
  {
   "cell_type": "code",
   "execution_count": 10,
   "id": "50076c69",
   "metadata": {},
   "outputs": [
    {
     "name": "stdout",
     "output_type": "stream",
     "text": [
      "Enter a any 3 digit number:111\n",
      "111 is not a Armstrong number\n"
     ]
    }
   ],
   "source": [
    "# 2.\tWrite a program to check whether a 3-digit number is an Armstrong number using if-else.\n",
    "\n",
    "num = int(input(\"Enter a any 3 digit number:\"))\n",
    "\n",
    "huns = num // 100\n",
    "tens = (num // 10) % 10\n",
    "units = num % 10\n",
    "\n",
    "SUM = (huns ** 3) + (tens ** 3) + (units ** 3)\n",
    "\n",
    "if num == SUM:\n",
    "    print(f\"{num} is a Armstrong number\")\n",
    "else:\n",
    "    print(f\"{num} is not a Armstrong number\")\n"
   ]
  },
  {
   "cell_type": "code",
   "execution_count": null,
   "id": "d5f2a206",
   "metadata": {},
   "outputs": [],
   "source": []
  },
  {
   "cell_type": "code",
   "execution_count": null,
   "id": "28ba5349",
   "metadata": {},
   "outputs": [],
   "source": []
  },
  {
   "cell_type": "code",
   "execution_count": null,
   "id": "025beb20",
   "metadata": {},
   "outputs": [],
   "source": []
  },
  {
   "cell_type": "code",
   "execution_count": null,
   "id": "66893afe",
   "metadata": {},
   "outputs": [],
   "source": []
  }
 ],
 "metadata": {
  "kernelspec": {
   "display_name": "Python 3 (ipykernel)",
   "language": "python",
   "name": "python3"
  },
  "language_info": {
   "codemirror_mode": {
    "name": "ipython",
    "version": 3
   },
   "file_extension": ".py",
   "mimetype": "text/x-python",
   "name": "python",
   "nbconvert_exporter": "python",
   "pygments_lexer": "ipython3",
   "version": "3.11.5"
  }
 },
 "nbformat": 4,
 "nbformat_minor": 5
}

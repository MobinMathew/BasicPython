{
 "cells": [
  {
   "cell_type": "code",
   "execution_count": 5,
   "id": "c3705bfd",
   "metadata": {},
   "outputs": [
    {
     "name": "stdout",
     "output_type": "stream",
     "text": [
      "Enter a number:20\n",
      "digit:0\n",
      "SUM OF DIGIT:0\n",
      "TEMP:2\n",
      "*******#####********\n",
      "\n",
      "\n",
      "digit:2\n",
      "SUM OF DIGIT:2\n",
      "TEMP:0\n",
      "*******#####********\n",
      "\n",
      "\n",
      "20 is a Harshad number\n"
     ]
    }
   ],
   "source": [
    "# 6.\tWrite a program to check whether a given number is a Harshad number (divisible by the sum of its digits).\n",
    "\n",
    "number = int(input(\"Enter a number:\"))\n",
    "\n",
    "sum_of_digit = 0\n",
    "temp = number\n",
    "\n",
    "while temp > 0:\n",
    "    digit = temp % 10\n",
    "    print(f\"digit:{digit}\")\n",
    "    \n",
    "    sum_of_digit += digit\n",
    "    print(f\"SUM OF DIGIT:{sum_of_digit}\")\n",
    "    \n",
    "    temp = temp // 10\n",
    "    print(f\"TEMP:{temp}\")\n",
    "    print(\"*******#####********\")\n",
    "    print(\"\\n\")\n",
    "    \n",
    "if number % sum_of_digit == 0:\n",
    "    print(f\"{number} is a Harshad number\")\n",
    "else:\n",
    "    print(f\"{number} is not a Harshad number\")"
   ]
  },
  {
   "cell_type": "code",
   "execution_count": null,
   "id": "54c3e0b8",
   "metadata": {},
   "outputs": [],
   "source": []
  }
 ],
 "metadata": {
  "kernelspec": {
   "display_name": "Python 3 (ipykernel)",
   "language": "python",
   "name": "python3"
  },
  "language_info": {
   "codemirror_mode": {
    "name": "ipython",
    "version": 3
   },
   "file_extension": ".py",
   "mimetype": "text/x-python",
   "name": "python",
   "nbconvert_exporter": "python",
   "pygments_lexer": "ipython3",
   "version": "3.11.5"
  }
 },
 "nbformat": 4,
 "nbformat_minor": 5
}

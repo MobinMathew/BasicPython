{
 "cells": [
  {
   "cell_type": "code",
   "execution_count": 2,
   "id": "5b52363e",
   "metadata": {},
   "outputs": [
    {
     "name": "stdout",
     "output_type": "stream",
     "text": [
      "enter a string:level\n",
      "It is a palindrome.\n"
     ]
    }
   ],
   "source": [
    "# 9.\tWrite a program to check whether the input string is a palindrome using if-else (without using slicing shortcuts).\n",
    "\n",
    "text = input(\"enter a string:\")\n",
    "\n",
    "# initialize variables\n",
    "reversed_text = ''\n",
    "length = len(text)\n",
    "\n",
    "\n",
    "# reverse thestring manually using a loop\n",
    "for i in range(length -1, -1, -1):\n",
    "    reversed_text += text[i]\n",
    "    \n",
    "# check palindrome\n",
    "if text == reversed_text:\n",
    "    print(\"It is a palindrome.\")\n",
    "else:\n",
    "    print(\"It is NOT a palindrome\")\n"
   ]
  },
  {
   "cell_type": "code",
   "execution_count": null,
   "id": "4a96a5f9",
   "metadata": {},
   "outputs": [],
   "source": []
  }
 ],
 "metadata": {
  "kernelspec": {
   "display_name": "Python 3 (ipykernel)",
   "language": "python",
   "name": "python3"
  },
  "language_info": {
   "codemirror_mode": {
    "name": "ipython",
    "version": 3
   },
   "file_extension": ".py",
   "mimetype": "text/x-python",
   "name": "python",
   "nbconvert_exporter": "python",
   "pygments_lexer": "ipython3",
   "version": "3.11.5"
  }
 },
 "nbformat": 4,
 "nbformat_minor": 5
}

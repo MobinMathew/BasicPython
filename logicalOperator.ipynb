{
 "cells": [
  {
   "cell_type": "code",
   "execution_count": 1,
   "id": "7ac75400",
   "metadata": {},
   "outputs": [
    {
     "name": "stdout",
     "output_type": "stream",
     "text": [
      "Enter a first number:10\n",
      "Enter a second number:15\n",
      "10 or 15\n"
     ]
    }
   ],
   "source": [
    "# logical operators:\n",
    "num1 = int(input(\"Enter a first number:\"))\n",
    "num2 = int(input(\"Enter a second number:\"))\n",
    "\n",
    "if num1 == num2 and num1 != num2:\n",
    "    print(f\"{num1} and {num2}\")\n",
    "elif num1 < num2 or num1 > num2:\n",
    "    print(f\"{num1} or {num2}\")\n",
    "elif not(num1 <= num2 and num1 >= num2):\n",
    "    print(f\"{num1} not {num2}\")\n",
    "else:\n",
    "    print(\"default\")"
   ]
  },
  {
   "cell_type": "code",
   "execution_count": 5,
   "id": "eeef48b2",
   "metadata": {},
   "outputs": [
    {
     "name": "stdout",
     "output_type": "stream",
     "text": [
      "num1 and num2 if both the statment is true then it will return true: False\n",
      "num1 or num2 if one the statement is true then it will return true: True\n",
      "reverse the result, return false if the result is true: True\n"
     ]
    }
   ],
   "source": [
    "num1 = True\n",
    "num2 = False\n",
    "\n",
    "print(\"num1 and num2 if both the statment is true then it will return true:\", num1 and num2)\n",
    "print(\"num1 or num2 if one the statement is true then it will return true:\", num1 or num2)\n",
    "print(\"reverse the result, return false if the result is true:\",not(num1 and num2))"
   ]
  },
  {
   "cell_type": "code",
   "execution_count": null,
   "id": "f5f4f336",
   "metadata": {},
   "outputs": [],
   "source": []
  }
 ],
 "metadata": {
  "kernelspec": {
   "display_name": "Python 3 (ipykernel)",
   "language": "python",
   "name": "python3"
  },
  "language_info": {
   "codemirror_mode": {
    "name": "ipython",
    "version": 3
   },
   "file_extension": ".py",
   "mimetype": "text/x-python",
   "name": "python",
   "nbconvert_exporter": "python",
   "pygments_lexer": "ipython3",
   "version": "3.11.5"
  }
 },
 "nbformat": 4,
 "nbformat_minor": 5
}
